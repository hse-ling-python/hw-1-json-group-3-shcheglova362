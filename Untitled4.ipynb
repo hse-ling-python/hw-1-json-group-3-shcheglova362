{
 "cells": [
  {
   "cell_type": "markdown",
   "metadata": {},
   "source": [
    "## Импорт модулей, которые пригодятся в программе"
   ]
  },
  {
   "cell_type": "code",
   "execution_count": 3,
   "metadata": {},
   "outputs": [],
   "source": [
    "import re\n",
    "from collections import Counter\n",
    "import json"
   ]
  },
  {
   "cell_type": "markdown",
   "metadata": {},
   "source": [
    "## Установка pep8"
   ]
  },
  {
   "cell_type": "code",
   "execution_count": 4,
   "metadata": {
    "scrolled": false
   },
   "outputs": [
    {
     "name": "stdout",
     "output_type": "stream",
     "text": [
      "Requirement already satisfied: pycodestyle in c:\\users\\екатерина\\appdata\\local\\programs\\python\\python37\\lib\\site-packages (2.5.0)\n",
      "Requirement already satisfied: flake8 in c:\\users\\екатерина\\appdata\\local\\programs\\python\\python37\\lib\\site-packages (3.7.8)\n",
      "Requirement already satisfied: pycodestyle_magic in c:\\users\\екатерина\\appdata\\local\\programs\\python\\python37\\lib\\site-packages (0.4)\n",
      "Requirement already satisfied: mccabe<0.7.0,>=0.6.0 in c:\\users\\екатерина\\appdata\\local\\programs\\python\\python37\\lib\\site-packages (from flake8) (0.6.1)\n",
      "Requirement already satisfied: entrypoints<0.4.0,>=0.3.0 in c:\\users\\екатерина\\appdata\\local\\programs\\python\\python37\\lib\\site-packages (from flake8) (0.3)\n",
      "Requirement already satisfied: pyflakes<2.2.0,>=2.1.0 in c:\\users\\екатерина\\appdata\\local\\programs\\python\\python37\\lib\\site-packages (from flake8) (2.1.1)\n"
     ]
    }
   ],
   "source": [
    "! pip3 install pycodestyle flake8 pycodestyle_magic"
   ]
  },
  {
   "cell_type": "code",
   "execution_count": 5,
   "metadata": {},
   "outputs": [],
   "source": [
    "%load_ext pycodestyle_magic\n",
    "%pycodestyle_on"
   ]
  },
  {
   "cell_type": "markdown",
   "metadata": {},
   "source": [
    "## Программа открывает файл и преобразовывает его в словарь"
   ]
  },
  {
   "cell_type": "code",
   "execution_count": 6,
   "metadata": {},
   "outputs": [],
   "source": [
    "twitter = []\n",
    "for line in open('hw_3_twitter.json', 'r', encoding=\"utf-8\"):\n",
    "    twitter.append(json.loads(line))"
   ]
  },
  {
   "cell_type": "markdown",
   "metadata": {},
   "source": [
    "## Задания 1 и 2"
   ]
  },
  {
   "cell_type": "markdown",
   "metadata": {},
   "source": [
    "#### Программа считает количество ощее количество твиттов и считает процент удалённых твиттов и округляет его до целого цисла"
   ]
  },
  {
   "cell_type": "code",
   "execution_count": 7,
   "metadata": {},
   "outputs": [
    {
     "name": "stdout",
     "output_type": "stream",
     "text": [
      "Количество твитов: 2556\n",
      "Процент удалённых: 14.0\n"
     ]
    }
   ],
   "source": [
    "number_lines = 0\n",
    "for line in twitter:\n",
    "    number_lines += 1\n",
    "    number_delete = 0\n",
    "    for line in twitter:\n",
    "        if 'delete' in line:\n",
    "            number_delete += 1\n",
    "            percentage = number_delete/number_lines*100\n",
    "print('Количество твитов:', number_lines)\n",
    "print('Процент удалённых:', round(percentage, 0))"
   ]
  },
  {
   "cell_type": "markdown",
   "metadata": {},
   "source": [
    "## Задание 3"
   ]
  },
  {
   "cell_type": "markdown",
   "metadata": {},
   "source": [
    "#### Программа находит самые частотные языки твиттов и выводит первые 20"
   ]
  },
  {
   "cell_type": "code",
   "execution_count": 21,
   "metadata": {},
   "outputs": [
    {
     "name": "stdout",
     "output_type": "stream",
     "text": [
      "en 719\n",
      "ja 438\n",
      "es 173\n",
      "ko 149\n",
      "th 123\n",
      "ar 119\n",
      "und 117\n",
      "in 71\n",
      "pt 69\n",
      "fr 35\n",
      "tr 30\n",
      "tl 29\n",
      "hi 23\n",
      "ru 15\n",
      "fa 8\n",
      "zh 8\n",
      "ca 7\n",
      "ur 6\n",
      "nl 6\n",
      "de 6\n"
     ]
    }
   ],
   "source": [
    "lang = []\n",
    "for line in twitter:\n",
    "    for key in line:\n",
    "        if key == 'lang':\n",
    "            lang.append(line[key])\n",
    "# print(Counter(lang).most_common(20))\n",
    "for i in Counter(lang).most_common(20):\n",
    "    print(i[0], i[1])"
   ]
  },
  {
   "cell_type": "markdown",
   "metadata": {},
   "source": [
    "## Задание 4"
   ]
  },
  {
   "cell_type": "markdown",
   "metadata": {},
   "source": [
    "#### Программа находит пользователей, у которых больше одного твитта"
   ]
  },
  {
   "cell_type": "code",
   "execution_count": 19,
   "metadata": {},
   "outputs": [
    {
     "name": "stdout",
     "output_type": "stream",
     "text": [
      "число пользователей: 25\n"
     ]
    }
   ],
   "source": [
    "users = {}\n",
    "count = 0\n",
    "for line in twitter:\n",
    "    keys = list(line.keys())\n",
    "    if keys[0] != 'delete':\n",
    "        users.setdefault(line['user']['id'], 0)\n",
    "        users[line['user']['id']] += 1\n",
    "    frequency = Counter(users)\n",
    "for value in frequency.values():\n",
    "    if value != 1:\n",
    "        count += 1\n",
    "print('число пользователей:', count)"
   ]
  },
  {
   "cell_type": "markdown",
   "metadata": {},
   "source": [
    "## Задание 5"
   ]
  },
  {
   "cell_type": "markdown",
   "metadata": {},
   "source": [
    "####  Программа ищет и выводит 20 самых частотных хэштегов"
   ]
  },
  {
   "cell_type": "code",
   "execution_count": 20,
   "metadata": {},
   "outputs": [
    {
     "name": "stdout",
     "output_type": "stream",
     "text": [
      "BTS 17\n",
      "방탄소년단 13\n",
      "AMAs 11\n",
      "人気投票ガチャ 8\n",
      "태형 7\n",
      "뷔 6\n",
      "BTSinChicago 5\n",
      "BTSLoveYourselfTour 5\n",
      "오늘의방탄 5\n",
      "PledgeForSwachhBharat 5\n",
      "MPN 5\n",
      "PCAs 4\n",
      "V 4\n",
      "시카고1회차공연 4\n",
      "เป๊กผลิตโชค 4\n",
      "JIMIN 4\n",
      "running 3\n",
      "NCT 3\n",
      "지민 3\n",
      "WajahmuPlastik 3\n"
     ]
    }
   ],
   "source": [
    "hashs = []\n",
    "for line in twitter:\n",
    "    for key in line:\n",
    "        if key == 'entities':\n",
    "            entities = (line[key]['hashtags'])\n",
    "            for tag in entities:\n",
    "                hashtag = tag['text']\n",
    "                hashs.append(hashtag)\n",
    "count = Counter(hashs).most_common(20)\n",
    "for key, value in count:\n",
    "    print(key, value)"
   ]
  },
  {
   "cell_type": "code",
   "execution_count": null,
   "metadata": {},
   "outputs": [],
   "source": []
  }
 ],
 "metadata": {
  "kernelspec": {
   "display_name": "Python 3",
   "language": "python",
   "name": "python3"
  }
 },
 "nbformat": 4,
 "nbformat_minor": 2
}
